{
  "nbformat": 4,
  "nbformat_minor": 0,
  "metadata": {
    "colab": {
      "provenance": [],
      "authorship_tag": "ABX9TyOJcjHKhX1+VPCuLxIBkW/q",
      "include_colab_link": true
    },
    "kernelspec": {
      "name": "python3",
      "display_name": "Python 3"
    },
    "language_info": {
      "name": "python"
    }
  },
  "cells": [
    {
      "cell_type": "markdown",
      "metadata": {
        "id": "view-in-github",
        "colab_type": "text"
      },
      "source": [
        "<a href=\"https://colab.research.google.com/github/Fabiann1232/Lenguajes/blob/main/Pepito.ipynb\" target=\"_parent\"><img src=\"https://colab.research.google.com/assets/colab-badge.svg\" alt=\"Open In Colab\"/></a>"
      ]
    },
    {
      "cell_type": "code",
      "execution_count": null,
      "metadata": {
        "colab": {
          "base_uri": "https://localhost:8080/"
        },
        "id": "0c8L8zZAhmb0",
        "outputId": "b5754118-f55f-4ee9-fc9b-260c3a1fbf02"
      },
      "outputs": [
        {
          "output_type": "stream",
          "name": "stdout",
          "text": [
            "Collecting antlr4-python3-runtime\n",
            "  Downloading antlr4_python3_runtime-4.13.1-py3-none-any.whl (144 kB)\n",
            "\u001b[?25l     \u001b[90m━━━━━━━━━━━━━━━━━━━━━━━━━━━━━━━━━━━━━━━━\u001b[0m \u001b[32m0.0/144.5 kB\u001b[0m \u001b[31m?\u001b[0m eta \u001b[36m-:--:--\u001b[0m\r\u001b[2K     \u001b[91m━━━━━━━━━━━━━━━━━━━━━━━━━━━━━━━━━━━━━━\u001b[0m\u001b[91m╸\u001b[0m \u001b[32m143.4/144.5 kB\u001b[0m \u001b[31m4.6 MB/s\u001b[0m eta \u001b[36m0:00:01\u001b[0m\r\u001b[2K     \u001b[90m━━━━━━━━━━━━━━━━━━━━━━━━━━━━━━━━━━━━━━━\u001b[0m \u001b[32m144.5/144.5 kB\u001b[0m \u001b[31m3.6 MB/s\u001b[0m eta \u001b[36m0:00:00\u001b[0m\n",
            "\u001b[?25hInstalling collected packages: antlr4-python3-runtime\n",
            "Successfully installed antlr4-python3-runtime-4.13.1\n"
          ]
        }
      ],
      "source": [
        "pip install antlr4-python3-runtime\n"
      ]
    },
    {
      "cell_type": "code",
      "source": [
        "import math\n",
        "\n",
        "input_file = '/expr.in'\n",
        "\n",
        "\n",
        "# Función para calcular sin(x), cos(x) o tan(x) en radianes\n",
        "def calculate_trig_function(func_name, angle):\n",
        "    if func_name == 'Sin':\n",
        "        result = math.sin(math.radians(angle))\n",
        "    elif func_name == 'Cos':\n",
        "        result = math.cos(math.radians(angle))\n",
        "    elif func_name == 'Tan':\n",
        "        result = math.tan(math.radians(angle))\n",
        "    else:\n",
        "        result = None\n",
        "\n",
        "    return result\n",
        "\n",
        "# Leer expresiones desde un archivo\n",
        "input_file = 'expr.in'\n",
        "output_file = 'results.out'\n",
        "\n",
        "with open(input_file, 'r') as f:\n",
        "    expressions = f.readlines()\n",
        "\n",
        "# Calcular y escribir los resultados en un archivo de salida\n",
        "with open(output_file, 'w') as f:\n",
        "    for expression in expressions:\n",
        "        parts = expression.strip().split('(')\n",
        "        if len(parts) == 2:\n",
        "            func_name = parts[0]\n",
        "            angle = float(parts[1].rstrip(')'))\n",
        "            result = calculate_trig_function(func_name, angle)\n",
        "            if result is not None:\n",
        "                f.write(f'{result}\\n')\n",
        "            else:\n",
        "                f.write('Expresión no válida\\n')\n",
        "        else:\n",
        "            f.write('Expresión no válida\\n')\n",
        "\n",
        "print(f\"Los resultados se han guardado en el archivo '{output_file}'.\")\n",
        "\n",
        "\n",
        "\n",
        "\n"
      ],
      "metadata": {
        "colab": {
          "base_uri": "https://localhost:8080/",
          "height": 245
        },
        "id": "kjQ87pFPiR5L",
        "outputId": "e5153522-811b-44d1-b88f-ed9c263d7c4c"
      },
      "execution_count": null,
      "outputs": [
        {
          "output_type": "error",
          "ename": "FileNotFoundError",
          "evalue": "ignored",
          "traceback": [
            "\u001b[0;31m---------------------------------------------------------------------------\u001b[0m",
            "\u001b[0;31mFileNotFoundError\u001b[0m                         Traceback (most recent call last)",
            "\u001b[0;32m<ipython-input-8-e496fcdc8ee6>\u001b[0m in \u001b[0;36m<cell line: 23>\u001b[0;34m()\u001b[0m\n\u001b[1;32m     21\u001b[0m \u001b[0moutput_file\u001b[0m \u001b[0;34m=\u001b[0m \u001b[0;34m'results.out'\u001b[0m\u001b[0;34m\u001b[0m\u001b[0;34m\u001b[0m\u001b[0m\n\u001b[1;32m     22\u001b[0m \u001b[0;34m\u001b[0m\u001b[0m\n\u001b[0;32m---> 23\u001b[0;31m \u001b[0;32mwith\u001b[0m \u001b[0mopen\u001b[0m\u001b[0;34m(\u001b[0m\u001b[0minput_file\u001b[0m\u001b[0;34m,\u001b[0m \u001b[0;34m'r'\u001b[0m\u001b[0;34m)\u001b[0m \u001b[0;32mas\u001b[0m \u001b[0mf\u001b[0m\u001b[0;34m:\u001b[0m\u001b[0;34m\u001b[0m\u001b[0;34m\u001b[0m\u001b[0m\n\u001b[0m\u001b[1;32m     24\u001b[0m     \u001b[0mexpressions\u001b[0m \u001b[0;34m=\u001b[0m \u001b[0mf\u001b[0m\u001b[0;34m.\u001b[0m\u001b[0mreadlines\u001b[0m\u001b[0;34m(\u001b[0m\u001b[0;34m)\u001b[0m\u001b[0;34m\u001b[0m\u001b[0;34m\u001b[0m\u001b[0m\n\u001b[1;32m     25\u001b[0m \u001b[0;34m\u001b[0m\u001b[0m\n",
            "\u001b[0;31mFileNotFoundError\u001b[0m: [Errno 2] No such file or directory: 'expr.in'"
          ]
        }
      ]
    }
  ]
}