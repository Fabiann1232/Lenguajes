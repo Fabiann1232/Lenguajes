{
  "nbformat": 4,
  "nbformat_minor": 0,
  "metadata": {
    "colab": {
      "provenance": [],
      "authorship_tag": "ABX9TyOwEhqM0TJqvoVQGxttFLmz",
      "include_colab_link": true
    },
    "kernelspec": {
      "name": "python3",
      "display_name": "Python 3"
    },
    "language_info": {
      "name": "python"
    }
  },
  "cells": [
    {
      "cell_type": "markdown",
      "metadata": {
        "id": "view-in-github",
        "colab_type": "text"
      },
      "source": [
        "<a href=\"https://colab.research.google.com/github/Fabiann1232/Lenguajes/blob/main/Pepito%3A).ipynb\" target=\"_parent\"><img src=\"https://colab.research.google.com/assets/colab-badge.svg\" alt=\"Open In Colab\"/></a>"
      ]
    },
    {
      "cell_type": "code",
      "execution_count": 25,
      "metadata": {
        "colab": {
          "base_uri": "https://localhost:8080/"
        },
        "id": "0c8L8zZAhmb0",
        "outputId": "ce7306e4-462b-49fb-dc12-4120dde17ed3"
      },
      "outputs": [
        {
          "output_type": "stream",
          "name": "stdout",
          "text": [
            "Requirement already satisfied: antlr4-python3-runtime in /usr/local/lib/python3.10/dist-packages (4.13.1)\n"
          ]
        }
      ],
      "source": [
        "!pip install antlr4-python3-runtime"
      ]
    },
    {
      "cell_type": "code",
      "source": [
        "import math\n",
        "\n",
        "# Función para calcular sin(x), cos(x) o tan(x) en radianes\n",
        "def calculate_trig_function(func_name, angle):\n",
        "    if func_name == 'Sin':\n",
        "        result = math.sin(math.radians(angle))\n",
        "    elif func_name == 'Cos':\n",
        "        result = math.cos(math.radians(angle))\n",
        "    elif func_name == 'Tan':\n",
        "        result = math.tan(math.radians(angle))\n",
        "    else:\n",
        "        result = None\n",
        "\n",
        "    return result\n",
        "\n",
        "# Leer expresiones desde un archivo\n",
        "input_file = 'expr.in'\n",
        "output_file = 'results.out'\n",
        "\n",
        "with open(input_file, 'r') as f:\n",
        "    expressions = f.readlines()\n",
        "\n",
        "# Calcular y escribir los resultados en un archivo de salida\n",
        "with open(output_file, 'w') as f:\n",
        "    for expression in expressions:\n",
        "        parts = expression.strip().split('(')\n",
        "        if len(parts) == 2:\n",
        "            func_name = parts[0]\n",
        "            angle = float(parts[1].rstrip(')'))\n",
        "            result = calculate_trig_function(func_name, angle)\n",
        "            if result is not None:\n",
        "                f.write(f'{result}\\n')\n",
        "            else:\n",
        "                f.write('Expresión no válida\\n')\n",
        "        else:\n",
        "            f.write('Expresión no válida\\n')\n",
        "\n",
        "print(f\"Los resultados se han guardado en el archivo '{output_file}'.\")\n"
      ],
      "metadata": {
        "colab": {
          "base_uri": "https://localhost:8080/"
        },
        "id": "kjQ87pFPiR5L",
        "outputId": "a61c0e09-1ac5-4d65-d9f5-512ee7960990"
      },
      "execution_count": 27,
      "outputs": [
        {
          "output_type": "stream",
          "name": "stdout",
          "text": [
            "Los resultados se han guardado en el archivo 'results.out'.\n"
          ]
        }
      ]
    }
  ]
}